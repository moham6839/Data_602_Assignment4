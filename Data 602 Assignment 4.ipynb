{
 "cells": [
  {
   "cell_type": "markdown",
   "metadata": {},
   "source": [
    "# Q1: \n",
    "Create a class called BankAccount that has four attributes: bankname, firstname,\n",
    "lastname, and balance.\n",
    "The default balance should be set to 0.\n",
    "In addition, create ...\n",
    "\n",
    "● A method called deposit() that allows the user to make deposits into their balance.\n",
    "\n",
    "● A method called withdrawal() that allows the user to withdraw from their balance.\n",
    "\n",
    "● Withdrawal may not exceed the available balance. Hint: consider a conditional argument\n",
    "in your withdrawal() method.\n",
    "\n",
    "● Use the __str__() method in order to display the bank name, owner name, and current\n",
    "balance.\n",
    "\n",
    "● Make a series of deposits and withdrawals to test your class."
   ]
  },
  {
   "cell_type": "code",
   "execution_count": 56,
   "metadata": {},
   "outputs": [],
   "source": [
    "class BankAccount:\n",
    "    \n",
    "    def __init__(self, bankname, firstname, lastname, balance=0):\n",
    "        self.bankname = bankname\n",
    "        self.firstname = firstname\n",
    "        self.lastname = lastname\n",
    "        self.balance = balance\n",
    "\n",
    "    def deposit(self):\n",
    "        deposit_amount = float(input(\"Enter amount you would like to deposit: \"))\n",
    "        self.balance += deposit_amount\n",
    "        print(\"Deposit Amount: \", self.balance)\n",
    "    def withdrawal(self):\n",
    "        withdraw_amount = float(input(\"Enter amount you would like to withdraw: \"))\n",
    "        if self.balance >= withdraw_amount:\n",
    "            self.balance -= withdraw_amount\n",
    "            print(\"Withdrawal Amount: \", withdraw_amount)\n",
    "        else:\n",
    "            print(\"You have withdrawn more than the amount in your account\")\n",
    "    def display(self):\n",
    "        print(\"New Available Balance: \", self.balance)"
   ]
  },
  {
   "cell_type": "code",
   "execution_count": 57,
   "metadata": {},
   "outputs": [
    {
     "name": "stdout",
     "output_type": "stream",
     "text": [
      "Enter amount you would like to deposit: 400\n",
      "Deposit Amount:  400.0\n",
      "Enter amount you would like to withdraw: 500\n",
      "You have withdrawn more than the amount in your account\n",
      "New Available Balance:  400.0\n"
     ]
    }
   ],
   "source": [
    "customer = BankAccount(\"YourBank\", \"Mohamed\", \"Hassan\", 0)\n",
    "customer.deposit()\n",
    "customer.withdrawal()\n",
    "customer.display()"
   ]
  },
  {
   "cell_type": "code",
   "execution_count": 58,
   "metadata": {},
   "outputs": [
    {
     "name": "stdout",
     "output_type": "stream",
     "text": [
      "Enter amount you would like to deposit: 600\n",
      "Deposit Amount:  1000.0\n"
     ]
    }
   ],
   "source": [
    "customer.deposit()"
   ]
  },
  {
   "cell_type": "code",
   "execution_count": 59,
   "metadata": {},
   "outputs": [
    {
     "name": "stdout",
     "output_type": "stream",
     "text": [
      "Enter amount you would like to withdraw: 500\n",
      "Withdrawal Amount:  500.0\n"
     ]
    }
   ],
   "source": [
    "customer.withdrawal()"
   ]
  },
  {
   "cell_type": "code",
   "execution_count": 60,
   "metadata": {},
   "outputs": [
    {
     "name": "stdout",
     "output_type": "stream",
     "text": [
      "New Available Balance:  500.0\n"
     ]
    }
   ],
   "source": [
    "customer.display()"
   ]
  },
  {
   "cell_type": "markdown",
   "metadata": {},
   "source": [
    "# Q2: \n",
    "Create a class Box that has attributes length and width that takes values for length\n",
    "and width upon construction (instantiation via the constructor).\n",
    "In addition, create…\n",
    "\n",
    "● A method called render() that prints out to the screen a box made with asterisks of\n",
    "length and width dimensions\n",
    "\n",
    "● A method called invert() that switches length and width with each other\n",
    "\n",
    "● Methods get_area() and get_perimeter() that return appropriate geometric calculations\n",
    "\n",
    "● A method called double() that doubles the size of the box. Hint: Pay attention to return\n",
    "value here.\n",
    "\n",
    "● Implement __eq__ so that two boxes can be compared using ==. Two boxes are equal if\n",
    "their respective lengths and widths are identical.\n",
    "\n",
    "● A method print_dim() that prints to screen the length and width details of the box\n",
    "\n",
    "● A method get_dim() that returns a tuple containing the length and width of the box\n",
    "\n",
    "● A method combine() that takes another box as an argument and increases the length\n",
    "and width by the dimensions of the box passed in\n",
    "\n",
    "● A method get_hypot() that finds the length of the diagonal that cuts through the middle\n",
    "\n",
    "● Instantiate 3 boxes of dimensions 5,10 , 3,4 and 5,10 and assign to variables box1,\n",
    "box2 and box3 respectively\n",
    "\n",
    "● Print dimension info for each using print_dim()\n",
    "\n",
    "● Evaluate if box1 == box2, and also evaluate if box1 == box3, print True or False to the\n",
    "screen accordingly\n",
    "\n",
    "● Combine box3 into box1 (i.e. box1.combine())\n",
    "\n",
    "● Double the size of box2\n",
    "\n",
    "● Combine box2 into box1"
   ]
  },
  {
   "cell_type": "code",
   "execution_count": null,
   "metadata": {},
   "outputs": [],
   "source": [
    "class Box:\n",
    "    def __init__(self, length, width):\n",
    "        self.length = length\n",
    "        self.width = width\n",
    "    def render(self):\n",
    "        print()\n",
    "    def invert(self):\n",
    "        \n",
    "    def get_area(self):\n",
    "        \n",
    "    def get_perimeter(self):\n",
    "    \n",
    "    def double(self):\n",
    "        \n",
    "    def print_dim(self):\n",
    "        print()\n",
    "    \n",
    "    def get_dim(self):\n",
    "        \n",
    "    def combine(self):\n",
    "        \n",
    "    def hypot(self):\n",
    "    \n",
    "    "
   ]
  },
  {
   "cell_type": "code",
   "execution_count": null,
   "metadata": {},
   "outputs": [],
   "source": []
  },
  {
   "cell_type": "code",
   "execution_count": null,
   "metadata": {},
   "outputs": [],
   "source": []
  }
 ],
 "metadata": {
  "kernelspec": {
   "display_name": "Python 3",
   "language": "python",
   "name": "python3"
  },
  "language_info": {
   "codemirror_mode": {
    "name": "ipython",
    "version": 3
   },
   "file_extension": ".py",
   "mimetype": "text/x-python",
   "name": "python",
   "nbconvert_exporter": "python",
   "pygments_lexer": "ipython3",
   "version": "3.8.5"
  },
  "toc": {
   "base_numbering": 1,
   "nav_menu": {},
   "number_sections": false,
   "sideBar": true,
   "skip_h1_title": false,
   "title_cell": "Table of Contents",
   "title_sidebar": "Contents",
   "toc_cell": false,
   "toc_position": {},
   "toc_section_display": true,
   "toc_window_display": true
  }
 },
 "nbformat": 4,
 "nbformat_minor": 4
}
